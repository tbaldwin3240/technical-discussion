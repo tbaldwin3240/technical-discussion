{
  "nbformat": 4,
  "nbformat_minor": 0,
  "metadata": {
    "colab": {
      "provenance": [],
      "toc_visible": true,
      "authorship_tag": "ABX9TyN5ASowxJrt4iYvlNO7s8p7",
      "include_colab_link": true
    },
    "kernelspec": {
      "name": "python3",
      "display_name": "Python 3"
    },
    "language_info": {
      "name": "python"
    }
  },
  "cells": [
    {
      "cell_type": "markdown",
      "metadata": {
        "id": "view-in-github",
        "colab_type": "text"
      },
      "source": [
        "<a href=\"https://colab.research.google.com/github/tbaldwin3240/technical-discussion/blob/main/Tecjmocal_docs.ipynb\" target=\"_parent\"><img src=\"https://colab.research.google.com/assets/colab-badge.svg\" alt=\"Open In Colab\"/></a>"
      ]
    },
    {
      "cell_type": "markdown",
      "source": [
        "#Ingest\n"
      ],
      "metadata": {
        "id": "gOw7dZMppuhd"
      }
    },
    {
      "cell_type": "code",
      "source": [
        "1 def hello():\n",
        "2     return \"hi\"\n",
        "3 hello()\n"
      ],
      "metadata": {
        "id": "FisMyr6ZnSQC"
      },
      "execution_count": null,
      "outputs": []
    },
    {
      "cell_type": "markdown",
      "source": [
        "##EDA"
      ],
      "metadata": {
        "id": "fq8kq-ZUpzTE"
      }
    },
    {
      "cell_type": "markdown",
      "source": [
        "### Modeling"
      ],
      "metadata": {
        "id": "UJ7dQv8vqH41"
      }
    },
    {
      "cell_type": "markdown",
      "source": [
        "#### Conclusion"
      ],
      "metadata": {
        "id": "trkQSJhJqPj5"
      }
    }
  ]
}